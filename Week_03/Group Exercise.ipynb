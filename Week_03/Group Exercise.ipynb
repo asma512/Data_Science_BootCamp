{
 "cells": [
  {
   "cell_type": "code",
   "execution_count": 24,
   "metadata": {},
   "outputs": [],
   "source": [
    "def calc(a,b):\n",
    "    print(\"A+b =\",a+b)\n",
    "    if a-b == 0:\n",
    "        print(\"A-b = zero\")\n",
    "    else:\n",
    "        print(\"A-b =\",a-b)\n",
    "    print(\"A*b =\",a*b)"
   ]
  },
  {
   "cell_type": "code",
   "execution_count": 26,
   "metadata": {},
   "outputs": [
    {
     "name": "stdout",
     "output_type": "stream",
     "text": [
      "A+b = 6\n",
      "A-b = zero\n",
      "A*b = 9\n"
     ]
    }
   ],
   "source": [
    "calc(3,3)"
   ]
  },
  {
   "cell_type": "code",
   "execution_count": 27,
   "metadata": {},
   "outputs": [
    {
     "name": "stdout",
     "output_type": "stream",
     "text": [
      "A+b = 8\n",
      "A-b = -2\n",
      "A*b = 15\n"
     ]
    }
   ],
   "source": [
    "calc(3,5)"
   ]
  },
  {
   "cell_type": "code",
   "execution_count": null,
   "metadata": {},
   "outputs": [],
   "source": []
  }
 ],
 "metadata": {
  "kernelspec": {
   "display_name": "Python 3",
   "language": "python",
   "name": "python3"
  },
  "language_info": {
   "codemirror_mode": {
    "name": "ipython",
    "version": 3
   },
   "file_extension": ".py",
   "mimetype": "text/x-python",
   "name": "python",
   "nbconvert_exporter": "python",
   "pygments_lexer": "ipython3",
   "version": "3.8.5"
  }
 },
 "nbformat": 4,
 "nbformat_minor": 4
}
