{
 "cells": [
  {
   "cell_type": "code",
   "execution_count": 21,
   "metadata": {},
   "outputs": [
    {
     "name": "stdout",
     "output_type": "stream",
     "text": [
      "Enter a number 24\n",
      "Not weird\n"
     ]
    }
   ],
   "source": [
    "def check(n):\n",
    "    if n % 2 == 0:\n",
    "        if n in range(2,5):\n",
    "            return 'Not weird'\n",
    "        elif n in range(6,20):\n",
    "            return 'Weird'\n",
    "        elif n>21:\n",
    "            return 'Not weird'\n",
    "    return \"Weird\"\n",
    "            \n",
    "n = int(input('Enter a number '))\n",
    "while n < 1 or n>100:\n",
    "    n = int(input('Enter a number '))\n",
    "print(check(n))"
   ]
  },
  {
   "cell_type": "code",
   "execution_count": 22,
   "metadata": {},
   "outputs": [
    {
     "name": "stdout",
     "output_type": "stream",
     "text": [
      "a is greater b\n"
     ]
    }
   ],
   "source": [
    "a= 10\n",
    "b=5\n",
    "if a == b:\n",
    "    print('they are equal')\n",
    "elif a>b:\n",
    "    print('a is greater b')\n",
    "else:\n",
    "    print('b is greater a')"
   ]
  },
  {
   "cell_type": "code",
   "execution_count": 23,
   "metadata": {},
   "outputs": [
    {
     "name": "stdout",
     "output_type": "stream",
     "text": [
      "3\n",
      "4\n",
      "5\n",
      "6\n",
      "7\n",
      "8\n",
      "9\n"
     ]
    }
   ],
   "source": [
    "x =3 \n",
    "while x < 10:\n",
    "    print(x)\n",
    "    x += 1"
   ]
  }
 ],
 "metadata": {
  "kernelspec": {
   "display_name": "Python 3",
   "language": "python",
   "name": "python3"
  },
  "language_info": {
   "codemirror_mode": {
    "name": "ipython",
    "version": 3
   },
   "file_extension": ".py",
   "mimetype": "text/x-python",
   "name": "python",
   "nbconvert_exporter": "python",
   "pygments_lexer": "ipython3",
   "version": "3.8.5"
  }
 },
 "nbformat": 4,
 "nbformat_minor": 4
}
