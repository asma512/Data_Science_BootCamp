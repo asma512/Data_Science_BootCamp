{
 "cells": [
  {
   "cell_type": "markdown",
   "metadata": {},
   "source": [
    "Problem 1: Index of Highest Value\n",
    "Given an array (or list) of integers, you need to find and return the index of the highest value in the array.\n",
    "\n",
    "Example:\n",
    "\n",
    "indexOfHighest([-1, 0, 5, 1, 5, 3, 4, 3]) => 2"
   ]
  },
  {
   "cell_type": "code",
   "execution_count": 1,
   "metadata": {},
   "outputs": [
    {
     "name": "stdout",
     "output_type": "stream",
     "text": [
      "5\n"
     ]
    }
   ],
   "source": [
    "\n",
    "ls = [-1, 0, 5, 1, 5, 3, 4, 3]\n",
    "\n",
    "print(max(ls))"
   ]
  },
  {
   "cell_type": "code",
   "execution_count": 2,
   "metadata": {},
   "outputs": [
    {
     "name": "stdout",
     "output_type": "stream",
     "text": [
      "2\n"
     ]
    }
   ],
   "source": [
    "highest = max(ls)\n",
    "for i in range(len(ls)):\n",
    "    if ls[i] == highest:\n",
    "        print(i)\n",
    "        break\n",
    "    "
   ]
  },
  {
   "cell_type": "markdown",
   "metadata": {},
   "source": [
    "Problem 2: Length of Longest Repeating Substring\n",
    "Given a string of alphabetic characters, you need to find the\n",
    "length of the longest substring of repeating characters.\n",
    "\n",
    "Example:\n",
    "\n",
    "longRepeat(\"hellooworrrld\") => 3 \n",
    "(because the longest string of repeated letters is “rrr”)"
   ]
  },
  {
   "cell_type": "code",
   "execution_count": 10,
   "metadata": {},
   "outputs": [
    {
     "name": "stdout",
     "output_type": "stream",
     "text": [
      "5\n"
     ]
    }
   ],
   "source": [
    "\n",
    "sentence = \"hellooworrrld\"\n",
    "repeated = \"\"\n",
    "count = 1\n",
    "for i in range(len(sentence)-1):\n",
    "    if sentence[i] == sentence[i+1]:\n",
    "        count += 1\n",
    "    else:\n",
    "        continue\n",
    "    previous_count = count\n",
    "    highest= max(count,previous_count)\n",
    "print(highest)\n",
    "    \n"
   ]
  },
  {
   "cell_type": "code",
   "execution_count": 15,
   "metadata": {},
   "outputs": [
    {
     "name": "stdout",
     "output_type": "stream",
     "text": [
      "3\n"
     ]
    }
   ],
   "source": [
    "longest_substring=0\n",
    "cnt=1\n",
    "strg=\"   \"\n",
    "str_length=len(strg)\n",
    "for x in range(str_length - 1):\n",
    "#  print(strg[x]) \n",
    "  if strg[x] == strg[x+1]:\n",
    "    cnt = cnt + 1\n",
    "    if cnt > longest_substring:\n",
    "      longest_substring = cnt     \n",
    "    else:\n",
    "      continue\n",
    "  else:\n",
    "    cnt=1\n",
    "    continue\n",
    "print(longest_substring)"
   ]
  },
  {
   "cell_type": "code",
   "execution_count": null,
   "metadata": {},
   "outputs": [],
   "source": []
  }
 ],
 "metadata": {
  "kernelspec": {
   "display_name": "Python 3",
   "language": "python",
   "name": "python3"
  },
  "language_info": {
   "codemirror_mode": {
    "name": "ipython",
    "version": 3
   },
   "file_extension": ".py",
   "mimetype": "text/x-python",
   "name": "python",
   "nbconvert_exporter": "python",
   "pygments_lexer": "ipython3",
   "version": "3.8.5"
  }
 },
 "nbformat": 4,
 "nbformat_minor": 4
}
