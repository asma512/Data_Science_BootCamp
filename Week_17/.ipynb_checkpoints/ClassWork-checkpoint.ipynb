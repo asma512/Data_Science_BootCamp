{
 "cells": [
  {
   "cell_type": "markdown",
   "metadata": {},
   "source": [
    "  Write simple (straightforward) definitions for the following parameters for\n",
    "RandomForestClassifier\n",
    "(https://scikit-learn.org/stable/modules/generated/sklearn.ensemble.RandomForestClass\n",
    "ifier.html) and indicate how they correlate with the precision and recall for the basic\n",
    "diabetes model we built in class. You will need to rerun the model multiple times to do\n",
    "so."
   ]
  },
  {
   "cell_type": "markdown",
   "metadata": {},
   "source": [
    "| Parameter | Definition | Correlation with Precision | Correlation with Recall |\n",
    "| :-:  | :- | :-  | :- |\n",
    "| estimators | The number of decision trees in the forest | The highest is at 500 and it decreases. Positive correlation but mainly remained in the same range | The highest is at 200. Positive correlation but mainly remained in the same range\n",
    "| max_depth | The maximum depth of each tree | The highest is at 1. Negative correlation | The highest is at 10. Postive Correlation\n",
    "| min_samples_split | The minimum number of samples required to split an internal node | The highest at 75. Positive correlation but mainly remained in the same range | The highest at 4. Negative correlation\n",
    "| min_samples_leaf | The minimum number of samples required to be at a leaf node | Perfect score at 125. Strong Postive Correlation.| The highest score is at 1. Strong Negative Correlation\n",
    "| min_weight_fraction_leaf | The minimum weighted fraction of the sum total of weights (of all the input samples) required to be at a leaf node. | Perfect score at 0.32. Strong Positive Correlation| The highest score is at 0. Strong Negative Correlation\n",
    "| max_leaf_nodes | Grows the tree in best-first fashion until max_leaf_nodes reached | The highest score is at 50. Positive correlation but mainly remained in the same range| The highest score is at 100.  Positive correlation but mainly remained in the same range.\n",
    "| min_impurity_decrease | A node will be split if this split induces a decrease of the impurity greater than or equal to this value. | The highest score is at 0.0005. Positive correlation but mainly remained in the same range| Same as precision."
   ]
  },
  {
   "cell_type": "code",
   "execution_count": 37,
   "metadata": {},
   "outputs": [],
   "source": [
    "import pandas as pd\n",
    "from sklearn.preprocessing import StandardScaler\n",
    "from sklearn.model_selection import train_test_split\n",
    "from sklearn.ensemble import RandomForestClassifier\n",
    "from sklearn import tree\n",
    "from sklearn.metrics import precision_score, recall_score \n",
    "from sklearn.metrics import classification_report"
   ]
  },
  {
   "cell_type": "code",
   "execution_count": 2,
   "metadata": {},
   "outputs": [
    {
     "data": {
      "text/html": [
       "<div>\n",
       "<style scoped>\n",
       "    .dataframe tbody tr th:only-of-type {\n",
       "        vertical-align: middle;\n",
       "    }\n",
       "\n",
       "    .dataframe tbody tr th {\n",
       "        vertical-align: top;\n",
       "    }\n",
       "\n",
       "    .dataframe thead th {\n",
       "        text-align: right;\n",
       "    }\n",
       "</style>\n",
       "<table border=\"1\" class=\"dataframe\">\n",
       "  <thead>\n",
       "    <tr style=\"text-align: right;\">\n",
       "      <th></th>\n",
       "      <th>Pregnancies</th>\n",
       "      <th>Glucose</th>\n",
       "      <th>BloodPressure</th>\n",
       "      <th>SkinThickness</th>\n",
       "      <th>Insulin</th>\n",
       "      <th>BMI</th>\n",
       "      <th>DiabetesPedigreeFunction</th>\n",
       "      <th>Age</th>\n",
       "      <th>Outcome</th>\n",
       "    </tr>\n",
       "  </thead>\n",
       "  <tbody>\n",
       "    <tr>\n",
       "      <th>0</th>\n",
       "      <td>6</td>\n",
       "      <td>148</td>\n",
       "      <td>72</td>\n",
       "      <td>35</td>\n",
       "      <td>0</td>\n",
       "      <td>33.6</td>\n",
       "      <td>0.627</td>\n",
       "      <td>50</td>\n",
       "      <td>1</td>\n",
       "    </tr>\n",
       "    <tr>\n",
       "      <th>1</th>\n",
       "      <td>1</td>\n",
       "      <td>85</td>\n",
       "      <td>66</td>\n",
       "      <td>29</td>\n",
       "      <td>0</td>\n",
       "      <td>26.6</td>\n",
       "      <td>0.351</td>\n",
       "      <td>31</td>\n",
       "      <td>0</td>\n",
       "    </tr>\n",
       "  </tbody>\n",
       "</table>\n",
       "</div>"
      ],
      "text/plain": [
       "   Pregnancies  Glucose  BloodPressure  SkinThickness  Insulin   BMI  \\\n",
       "0            6      148             72             35        0  33.6   \n",
       "1            1       85             66             29        0  26.6   \n",
       "\n",
       "   DiabetesPedigreeFunction  Age  Outcome  \n",
       "0                     0.627   50        1  \n",
       "1                     0.351   31        0  "
      ]
     },
     "execution_count": 2,
     "metadata": {},
     "output_type": "execute_result"
    }
   ],
   "source": [
    "diabetes = pd.read_csv('diabetes.csv')\n",
    "diabetes.head(2)"
   ]
  },
  {
   "cell_type": "code",
   "execution_count": 3,
   "metadata": {},
   "outputs": [],
   "source": [
    "X = diabetes.drop('Outcome', axis=1)\n",
    "y = diabetes['Outcome']\n",
    "\n",
    "X_train, X_test, y_train, y_test = train_test_split(X, y, test_size=0.3, random_state=42, stratify=y)\n",
    "\n",
    "sc = StandardScaler()\n",
    "X_train = sc.fit_transform(X_train)\n",
    "X_test = sc.fit_transform(X_test)"
   ]
  },
  {
   "cell_type": "code",
   "execution_count": 45,
   "metadata": {},
   "outputs": [],
   "source": [
    "def run_model(rf,parameter):\n",
    "    rf = rf.fit(X_train, y_train)\n",
    "    y_pred = rf.predict(X_test)\n",
    "    if type(parameter)==bool:\n",
    "        print(parameter, \"|\", \n",
    "          'Precision:', round(precision_score(y_test,y_pred), 2), \"| \"\n",
    "          'Recall:', round(recall_score(y_test,y_pred), 2))\n",
    "        print(classification_report(y_test, y_pred))\n",
    "    else:\n",
    "        print(parameter, i, \"|\", \n",
    "          'Precision:', round(precision_score(y_test,y_pred), 2), \"| \"\n",
    "          'Recall:', round(recall_score(y_test,y_pred), 2))\n",
    "        \n",
    "        "
   ]
  },
  {
   "cell_type": "code",
   "execution_count": 5,
   "metadata": {},
   "outputs": [
    {
     "name": "stdout",
     "output_type": "stream",
     "text": [
      "n_estimators 10 | Precision: 0.68 | Recall: 0.53\n",
      "n_estimators 50 | Precision: 0.66 | Recall: 0.56\n",
      "n_estimators 100 | Precision: 0.68 | Recall: 0.54\n",
      "n_estimators 200 | Precision: 0.7 | Recall: 0.58\n",
      "n_estimators 300 | Precision: 0.68 | Recall: 0.56\n",
      "n_estimators 400 | Precision: 0.68 | Recall: 0.54\n",
      "n_estimators 500 | Precision: 0.71 | Recall: 0.58\n",
      "n_estimators 600 | Precision: 0.7 | Recall: 0.57\n",
      "n_estimators 700 | Precision: 0.7 | Recall: 0.57\n",
      "n_estimators 800 | Precision: 0.7 | Recall: 0.57\n",
      "n_estimators 900 | Precision: 0.7 | Recall: 0.58\n",
      "n_estimators 1000 | Precision: 0.7 | Recall: 0.58\n",
      "n_estimators 1500 | Precision: 0.7 | Recall: 0.58\n",
      "n_estimators 2000 | Precision: 0.69 | Recall: 0.58\n"
     ]
    }
   ],
   "source": [
    "estimators = [10, 50, 100, 200, 300, 400, 500, 600, 700, 800, 900, 1000,1500,2000]\n",
    "for i in estimators:\n",
    "    rf = RandomForestClassifier(n_estimators=i, random_state=42)\n",
    "    run_model(rf,\"n_estimators\")"
   ]
  },
  {
   "cell_type": "code",
   "execution_count": 6,
   "metadata": {},
   "outputs": [
    {
     "name": "stdout",
     "output_type": "stream",
     "text": [
      "max_depth 1 | Precision: 0.88 | Recall: 0.19\n",
      "max_depth 5 | Precision: 0.69 | Recall: 0.49\n",
      "max_depth 10 | Precision: 0.69 | Recall: 0.58\n",
      "max_depth 15 | Precision: 0.69 | Recall: 0.57\n",
      "max_depth 20 | Precision: 0.68 | Recall: 0.54\n",
      "max_depth 25 | Precision: 0.68 | Recall: 0.54\n",
      "max_depth 50 | Precision: 0.68 | Recall: 0.54\n",
      "max_depth 75 | Precision: 0.68 | Recall: 0.54\n",
      "max_depth 100 | Precision: 0.68 | Recall: 0.54\n"
     ]
    }
   ],
   "source": [
    "depth = [1, 5, 10, 15, 20, 25, 50, 75, 100]\n",
    "for i in depth:\n",
    "    rf = RandomForestClassifier(max_depth=i, random_state=42)\n",
    "    run_model(rf,\"max_depth\")"
   ]
  },
  {
   "cell_type": "code",
   "execution_count": 7,
   "metadata": {},
   "outputs": [
    {
     "name": "stdout",
     "output_type": "stream",
     "text": [
      "min_samples_split 2 | Precision: 0.68 | Recall: 0.54\n",
      "min_samples_split 3 | Precision: 0.7 | Recall: 0.56\n",
      "min_samples_split 4 | Precision: 0.68 | Recall: 0.58\n",
      "min_samples_split 5 | Precision: 0.68 | Recall: 0.57\n",
      "min_samples_split 6 | Precision: 0.7 | Recall: 0.57\n",
      "min_samples_split 7 | Precision: 0.69 | Recall: 0.57\n",
      "min_samples_split 8 | Precision: 0.68 | Recall: 0.53\n",
      "min_samples_split 9 | Precision: 0.65 | Recall: 0.48\n",
      "min_samples_split 10 | Precision: 0.68 | Recall: 0.54\n",
      "min_samples_split 15 | Precision: 0.67 | Recall: 0.56\n",
      "min_samples_split 25 | Precision: 0.68 | Recall: 0.56\n",
      "min_samples_split 50 | Precision: 0.66 | Recall: 0.51\n",
      "min_samples_split 75 | Precision: 0.72 | Recall: 0.52\n",
      "min_samples_split 100 | Precision: 0.66 | Recall: 0.46\n"
     ]
    }
   ],
   "source": [
    "min_samples = [2, 3, 4, 5, 6, 7, 8, 9, 10, 15, 25,50,75,100]\n",
    "for i in min_samples:\n",
    "    rf = RandomForestClassifier(min_samples_split=i, random_state=42)\n",
    "    run_model(rf,\"min_samples_split\")"
   ]
  },
  {
   "cell_type": "code",
   "execution_count": 8,
   "metadata": {},
   "outputs": [
    {
     "name": "stdout",
     "output_type": "stream",
     "text": [
      "min_samples_leaf 1 | Precision: 0.68 | Recall: 0.54\n",
      "min_samples_leaf 5 | Precision: 0.7 | Recall: 0.54\n",
      "min_samples_leaf 10 | Precision: 0.68 | Recall: 0.53\n",
      "min_samples_leaf 20 | Precision: 0.69 | Recall: 0.49\n",
      "min_samples_leaf 30 | Precision: 0.7 | Recall: 0.48\n",
      "min_samples_leaf 40 | Precision: 0.7 | Recall: 0.46\n",
      "min_samples_leaf 50 | Precision: 0.73 | Recall: 0.43\n",
      "min_samples_leaf 75 | Precision: 0.73 | Recall: 0.43\n",
      "min_samples_leaf 100 | Precision: 0.76 | Recall: 0.35\n",
      "min_samples_leaf 110 | Precision: 0.8 | Recall: 0.2\n",
      "min_samples_leaf 125 | Precision: 1.0 | Recall: 0.07\n"
     ]
    }
   ],
   "source": [
    "min_leaf = [1, 5, 10, 20, 30, 40, 50, 75, 100, 110, 125]\n",
    "for i in min_leaf:\n",
    "    rf = RandomForestClassifier(min_samples_leaf=i, random_state=42)\n",
    "    run_model(rf,\"min_samples_leaf\")"
   ]
  },
  {
   "cell_type": "code",
   "execution_count": 12,
   "metadata": {},
   "outputs": [
    {
     "name": "stdout",
     "output_type": "stream",
     "text": [
      "min_weight_fraction_leaf 0 | Precision: 0.68 | Recall: 0.54\n",
      "min_weight_fraction_leaf 0.1 | Precision: 0.7 | Recall: 0.47\n",
      "min_weight_fraction_leaf 0.2 | Precision: 0.7 | Recall: 0.47\n",
      "min_weight_fraction_leaf 0.25 | Precision: 0.72 | Recall: 0.38\n",
      "min_weight_fraction_leaf 0.3 | Precision: 0.76 | Recall: 0.35\n",
      "min_weight_fraction_leaf 0.35 | Precision: 1.0 | Recall: 0.09\n"
     ]
    }
   ],
   "source": [
    "min_weight = [0, 0.1, 0.2, 0.25, 0.30,0.35]\n",
    "for i in min_weight:\n",
    "    rf = RandomForestClassifier(min_weight_fraction_leaf=i, random_state=42)\n",
    "    run_model(rf,\"min_weight_fraction_leaf\")"
   ]
  },
  {
   "cell_type": "code",
   "execution_count": 13,
   "metadata": {},
   "outputs": [
    {
     "name": "stdout",
     "output_type": "stream",
     "text": [
      "max_leaf_nodes None | Precision: 0.68 | Recall: 0.54\n",
      "max_leaf_nodes 5 | Precision: 0.72 | Recall: 0.44\n",
      "max_leaf_nodes 10 | Precision: 0.67 | Recall: 0.49\n",
      "max_leaf_nodes 50 | Precision: 0.73 | Recall: 0.57\n",
      "max_leaf_nodes 100 | Precision: 0.7 | Recall: 0.58\n",
      "max_leaf_nodes 200 | Precision: 0.7 | Recall: 0.57\n",
      "max_leaf_nodes 300 | Precision: 0.7 | Recall: 0.57\n",
      "max_leaf_nodes 400 | Precision: 0.7 | Recall: 0.57\n",
      "max_leaf_nodes 500 | Precision: 0.7 | Recall: 0.57\n",
      "max_leaf_nodes 1000 | Precision: 0.7 | Recall: 0.57\n"
     ]
    }
   ],
   "source": [
    "max_leaf = [None, 5, 10, 50, 100, 200, 300, 400, 500, 1000]\n",
    "for i in max_leaf:\n",
    "    rf = RandomForestClassifier(max_leaf_nodes=i, random_state=42)\n",
    "    run_model(rf,\"max_leaf_nodes\")"
   ]
  },
  {
   "cell_type": "code",
   "execution_count": 11,
   "metadata": {},
   "outputs": [
    {
     "name": "stdout",
     "output_type": "stream",
     "text": [
      "min_impurity_decrease 0.01 | Precision: 0.7 | Recall: 0.46\n",
      "min_impurity_decrease 0.005 | Precision: 0.7 | Recall: 0.52\n",
      "min_impurity_decrease 0.001 | Precision: 0.67 | Recall: 0.56\n",
      "min_impurity_decrease 0.0005 | Precision: 0.71 | Recall: 0.57\n",
      "min_impurity_decrease 0.0001 | Precision: 0.65 | Recall: 0.52\n",
      "min_impurity_decrease 5e-05 | Precision: 0.68 | Recall: 0.54\n",
      "min_impurity_decrease 1e-05 | Precision: 0.68 | Recall: 0.54\n"
     ]
    }
   ],
   "source": [
    "min_decrease = [.01, .005, .001, .0005, .0001, .00005, .00001]\n",
    "for i in min_decrease:\n",
    "    rf = RandomForestClassifier(min_impurity_decrease=i, random_state=42)\n",
    "    run_model(rf,\"min_impurity_decrease\")"
   ]
  },
  {
   "cell_type": "markdown",
   "metadata": {},
   "source": [
    "2. How does setting bootstrap=False influence the model performance? Note: the default isbootstrap=True. Explain why your results might be so."
   ]
  },
  {
   "cell_type": "markdown",
   "metadata": {},
   "source": [
    "This example model performs better when bootstrap=False in terms of recall compared to when it is set to True. When it is False, the whole dataset is used to build each descision tree. The sample are drawn without replacement.\n",
    "\n",
    "When it is True, data points will be used more than once ( with replacement). This can lead to overfiting."
   ]
  },
  {
   "cell_type": "code",
   "execution_count": 50,
   "metadata": {},
   "outputs": [
    {
     "name": "stdout",
     "output_type": "stream",
     "text": [
      "True | Precision: 0.68 | Recall: 0.54\n",
      "              precision    recall  f1-score   support\n",
      "\n",
      "           0       0.78      0.86      0.82       150\n",
      "           1       0.68      0.54      0.60        81\n",
      "\n",
      "    accuracy                           0.75       231\n",
      "   macro avg       0.73      0.70      0.71       231\n",
      "weighted avg       0.74      0.75      0.74       231\n",
      "\n"
     ]
    }
   ],
   "source": [
    "rf = RandomForestClassifier(random_state=42)\n",
    "run_model(rf,True)"
   ]
  },
  {
   "cell_type": "code",
   "execution_count": 51,
   "metadata": {},
   "outputs": [
    {
     "name": "stdout",
     "output_type": "stream",
     "text": [
      "False | Precision: 0.68 | Recall: 0.58\n",
      "              precision    recall  f1-score   support\n",
      "\n",
      "           0       0.79      0.85      0.82       150\n",
      "           1       0.68      0.58      0.63        81\n",
      "\n",
      "    accuracy                           0.76       231\n",
      "   macro avg       0.74      0.72      0.72       231\n",
      "weighted avg       0.75      0.76      0.75       231\n",
      "\n"
     ]
    }
   ],
   "source": [
    "rf = RandomForestClassifier(bootstrap=False, random_state=42)\n",
    "run_model(rf,False)"
   ]
  },
  {
   "cell_type": "code",
   "execution_count": null,
   "metadata": {},
   "outputs": [],
   "source": []
  }
 ],
 "metadata": {
  "kernelspec": {
   "display_name": "Python 3",
   "language": "python",
   "name": "python3"
  },
  "language_info": {
   "codemirror_mode": {
    "name": "ipython",
    "version": 3
   },
   "file_extension": ".py",
   "mimetype": "text/x-python",
   "name": "python",
   "nbconvert_exporter": "python",
   "pygments_lexer": "ipython3",
   "version": "3.8.5"
  }
 },
 "nbformat": 4,
 "nbformat_minor": 4
}
