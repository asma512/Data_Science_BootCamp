{
 "cells": [
  {
   "cell_type": "markdown",
   "metadata": {},
   "source": [
    "3.\tLoad the tokenized Paradise Lost from the Gutenberg Corpus in NLTK.* https://www.nltk.org/book/ch02.html . Stem or lemmatize the words and find counts. Select the top 20 words and create a histogram. Exclude stop words and make sure you are including words of all capitalizations in your count. If there are any meaningless “words” (“thus” and single letters, etc.) that are produced in your list or top words, alter your logic to exclude them. Specify why you chose stemming or lemmatization. "
   ]
  },
  {
   "cell_type": "markdown",
   "metadata": {},
   "source": [
    "I chose stemming other lemmatization since Pardise Lost was written in the 17th century and it has a lot of old english word which could lead to inproper lemmatization since context is important."
   ]
  },
  {
   "cell_type": "code",
   "execution_count": 2,
   "metadata": {},
   "outputs": [],
   "source": [
    "import nltk\n",
    "import re\n",
    "from nltk.tokenize import word_tokenize\n",
    "import untokenize\n",
    "from nltk.stem.snowball import SnowballStemmer\n",
    "from collections import Counter\n",
    "from nltk.sentiment.vader import SentimentIntensityAnalyzer\n",
    "\n",
    "import matplotlib.pyplot as plt\n",
    "import seaborn as sns\n",
    "import pandas as pd"
   ]
  },
  {
   "cell_type": "code",
   "execution_count": 3,
   "metadata": {},
   "outputs": [
    {
     "data": {
      "text/plain": [
       "['[', 'Paradise', 'Lost', 'by', 'John', 'Milton', ...]"
      ]
     },
     "execution_count": 3,
     "metadata": {},
     "output_type": "execute_result"
    }
   ],
   "source": [
    "words = nltk.corpus.gutenberg.words('milton-paradise.txt')\n",
    "words"
   ]
  },
  {
   "cell_type": "code",
   "execution_count": 4,
   "metadata": {},
   "outputs": [],
   "source": [
    "# Lowercase words\n",
    "words_lower = [word.lower() for word in words if word.isalpha()]\n",
    "\n",
    "# Make a list of stop words\n",
    "stop_words = set(nltk.corpus.stopwords.words(\"english\"))\n",
    "\n",
    "other_stop_words = [\"thou\",\"thy\",'thee',\"thus\",\"shall\",\"yet\",\"though\",\"may\",\"till\"]\n",
    "\n",
    "# Remove stopwords from words list\n",
    "words_clean = [word for word in words_lower if word not in stop_words and word not in other_stop_words]\n",
    "\n",
    "#stem the words\n",
    "stemmer = SnowballStemmer(language='english')\n",
    "words_stem = [stemmer.stem(word) for word in words_clean]"
   ]
  },
  {
   "cell_type": "code",
   "execution_count": 5,
   "metadata": {},
   "outputs": [
    {
     "data": {
      "text/plain": [
       "[('heaven', 485),\n",
       " ('god', 316),\n",
       " ('earth', 228),\n",
       " ('us', 187),\n",
       " ('man', 178),\n",
       " ('first', 175),\n",
       " ('high', 159),\n",
       " ('day', 157),\n",
       " ('one', 142),\n",
       " ('power', 133),\n",
       " ('like', 132),\n",
       " ('son', 132),\n",
       " ('great', 130),\n",
       " ('far', 129),\n",
       " ('death', 127),\n",
       " ('world', 122),\n",
       " ('light', 122),\n",
       " ('good', 122),\n",
       " ('hell', 119),\n",
       " ('night', 117)]"
      ]
     },
     "execution_count": 5,
     "metadata": {},
     "output_type": "execute_result"
    }
   ],
   "source": [
    "# Get count dictionary\n",
    "count = Counter(words_stem)\n",
    "\n",
    "# Get top 10 most common words\n",
    "top_twenty = count.most_common(20)\n",
    "top_twenty"
   ]
  },
  {
   "cell_type": "code",
   "execution_count": 6,
   "metadata": {},
   "outputs": [
    {
     "data": {
      "text/plain": [
       "Text(0.5, 1.0, 'milton-paradise top 20 stem words')"
      ]
     },
     "execution_count": 6,
     "metadata": {},
     "output_type": "execute_result"
    },
    {
     "data": {
      "image/png": "[encoded data removed]",
      "text/plain": [
       "<Figure size 1080x504 with 1 Axes>"
      ]
     },
     "metadata": {
      "needs_background": "light"
     },
     "output_type": "display_data"
    }
   ],
   "source": [
    "df = pd.DataFrame(top_twenty,columns=[\"words\",\"occurences\"])\n",
    "plt.figure(figsize=(15,7))\n",
    "sns.barplot(x=\"words\",y=\"occurences\",data=df,saturation=0.9).set_title(\"milton-paradise top 20 stem words\")"
   ]
  },
  {
   "cell_type": "markdown",
   "metadata": {},
   "source": [
    "4.\tPerform Vader Sentiment Analysis on the book. Find the 5 most negative, 5 most positive, and 5 most neutral sentences in Paradise Lost*. http://www.nltk.org/howto/sentiment.html . This may take a while to run, so you can always start with a small subset of the data (100 sentences) and then once your code works as expected, expand it to the whole book and let it run."
   ]
  },
  {
   "cell_type": "code",
   "execution_count": 104,
   "metadata": {},
   "outputs": [],
   "source": [
    "sentences = nltk.corpus.gutenberg.sents('milton-paradise.txt')"
   ]
  },
  {
   "cell_type": "code",
   "execution_count": 122,
   "metadata": {},
   "outputs": [],
   "source": [
    "sentence_list = []  \n",
    "for sent in sentences:\n",
    "    single_sentence = ' '.join(sent).replace(\" ' \",\"'\")\n",
    "    regex = re.split('([();?:[\\]\\-!.\",\\'])', single_sentence)\n",
    "    sentence_list.append(''.join(x.rstrip() for x in regex))"
   ]
  },
  {
   "cell_type": "code",
   "execution_count": 123,
   "metadata": {},
   "outputs": [
    {
     "data": {
      "text/plain": [
       "\"And chiefly thou, O Spirit, that dost prefer Before all temples th'upright heart and pure, Instruct me, for thou know'st; thou from the first Wast present, and, with mighty wings outspread, Dove- like sat'st brooding on the vast Abyss, And mad'st it pregnant: what in me is dark Illumine, what is low raise and support; That, to the height of this great argument, I may assert Eternal Providence, And justify the ways of God to men.\""
      ]
     },
     "execution_count": 123,
     "metadata": {},
     "output_type": "execute_result"
    }
   ],
   "source": [
    "sentence_list[3]"
   ]
  },
  {
   "cell_type": "code",
   "execution_count": 124,
   "metadata": {},
   "outputs": [],
   "source": [
    "#Create an SentimentIntensityAnalyzer object and an empty list\n",
    "analyzer = SentimentIntensityAnalyzer()\n",
    "sentiments = []\n",
    "\n",
    "#Loop through the sentences in the list\n",
    "for i in sentence_list:\n",
    "    #Obtain the polarity scores for each sentence and append them to the list\n",
    "    sentiment = analyzer.polarity_scores(i)\n",
    "    sentiments.append({\n",
    "        'compound': sentiment['compound'],\n",
    "        'positive': sentiment['pos'],\n",
    "        'negative': sentiment['neg'],\n",
    "        'neutral': sentiment['neu']})"
   ]
  },
  {
   "cell_type": "code",
   "execution_count": 125,
   "metadata": {},
   "outputs": [
    {
     "data": {
      "text/plain": [
       "{'compound': 0.8546, 'positive': 0.175, 'negative': 0.054, 'neutral': 0.771}"
      ]
     },
     "execution_count": 125,
     "metadata": {},
     "output_type": "execute_result"
    }
   ],
   "source": [
    "sentiments[3]"
   ]
  },
  {
   "cell_type": "code",
   "execution_count": 126,
   "metadata": {},
   "outputs": [
    {
     "data": {
      "text/html": [
       "<div>\n",
       "<style scoped>\n",
       "    .dataframe tbody tr th:only-of-type {\n",
       "        vertical-align: middle;\n",
       "    }\n",
       "\n",
       "    .dataframe tbody tr th {\n",
       "        vertical-align: top;\n",
       "    }\n",
       "\n",
       "    .dataframe thead th {\n",
       "        text-align: right;\n",
       "    }\n",
       "</style>\n",
       "<table border=\"1\" class=\"dataframe\">\n",
       "  <thead>\n",
       "    <tr style=\"text-align: right;\">\n",
       "      <th></th>\n",
       "      <th>compound</th>\n",
       "      <th>positive</th>\n",
       "      <th>negative</th>\n",
       "      <th>neutral</th>\n",
       "    </tr>\n",
       "  </thead>\n",
       "  <tbody>\n",
       "    <tr>\n",
       "      <th>0</th>\n",
       "      <td>0.4404</td>\n",
       "      <td>0.400</td>\n",
       "      <td>0.219</td>\n",
       "      <td>0.381</td>\n",
       "    </tr>\n",
       "    <tr>\n",
       "      <th>1</th>\n",
       "      <td>0.0000</td>\n",
       "      <td>0.000</td>\n",
       "      <td>0.000</td>\n",
       "      <td>1.000</td>\n",
       "    </tr>\n",
       "    <tr>\n",
       "      <th>2</th>\n",
       "      <td>0.8885</td>\n",
       "      <td>0.194</td>\n",
       "      <td>0.117</td>\n",
       "      <td>0.689</td>\n",
       "    </tr>\n",
       "    <tr>\n",
       "      <th>3</th>\n",
       "      <td>0.8546</td>\n",
       "      <td>0.175</td>\n",
       "      <td>0.054</td>\n",
       "      <td>0.771</td>\n",
       "    </tr>\n",
       "    <tr>\n",
       "      <th>4</th>\n",
       "      <td>0.9371</td>\n",
       "      <td>0.261</td>\n",
       "      <td>0.028</td>\n",
       "      <td>0.712</td>\n",
       "    </tr>\n",
       "  </tbody>\n",
       "</table>\n",
       "</div>"
      ],
      "text/plain": [
       "   compound  positive  negative  neutral\n",
       "0    0.4404     0.400     0.219    0.381\n",
       "1    0.0000     0.000     0.000    1.000\n",
       "2    0.8885     0.194     0.117    0.689\n",
       "3    0.8546     0.175     0.054    0.771\n",
       "4    0.9371     0.261     0.028    0.712"
      ]
     },
     "execution_count": 126,
     "metadata": {},
     "output_type": "execute_result"
    }
   ],
   "source": [
    "scores = pd.DataFrame(sentiments)\n",
    "scores.head()"
   ]
  },
  {
   "cell_type": "code",
   "execution_count": 127,
   "metadata": {},
   "outputs": [
    {
     "name": "stdout",
     "output_type": "stream",
     "text": [
      "O Friends!\n",
      "O Heaven!\n",
      "O friends!\n",
      "O Heaven!\n",
      "She fair, divinely fair, fit love for Gods!\n"
     ]
    }
   ],
   "source": [
    "for i in scores.sort_values([\"positive\"], ascending=False).index[:5]:\n",
    "    print(sentence_list[i])"
   ]
  },
  {
   "cell_type": "code",
   "execution_count": 128,
   "metadata": {},
   "outputs": [
    {
     "name": "stdout",
     "output_type": "stream",
     "text": [
      "O Hell!\n",
      "Alas!\n",
      "No!\n",
      "Me miserable!\n",
      "Sad cure!\n"
     ]
    }
   ],
   "source": [
    "for i in scores.sort_values([\"negative\"], ascending=False).index[:5]:\n",
    "    print(sentence_list[i])"
   ]
  },
  {
   "cell_type": "code",
   "execution_count": 129,
   "metadata": {},
   "outputs": [
    {
     "name": "stdout",
     "output_type": "stream",
     "text": [
      "[ The End]\u001a\u001a\n",
      "Ye have what I advise.\"\n",
      "Open, ye everlasting gates!\n",
      "Let us make now Man in our image, Man In our similitude, and let them rule Over the fish and fowl of sea and air, Beast of the field, and over all the Earth, And every creeping thing that creeps the ground.\n",
      "thus to his Son audibly spake.\n"
     ]
    }
   ],
   "source": [
    "for i in scores.sort_values([\"neutral\"], ascending=False).index[:5]:\n",
    "    print(sentence_list[i])"
   ]
  },
  {
   "cell_type": "markdown",
   "metadata": {},
   "source": [
    "5.\tExplain your findings from the previous question. Are the sentences and their sentiment analysis scores correct? Explain why or why not. "
   ]
  },
  {
   "cell_type": "markdown",
   "metadata": {},
   "source": [
    "Based on the examples, I think for the most part the sentiment analysis scores are pretty accurate. The 5 most negative and postive sentence makes sense while the 5 most neutral sentences seems off. I would think \"the end\" would and \"Open, ye everlasting gates!\" would be have lower neutral score since they are more likely to negative and postive, respectively."
   ]
  }
 ],
 "metadata": {
  "kernelspec": {
   "display_name": "Python 3",
   "language": "python",
   "name": "python3"
  },
  "language_info": {
   "codemirror_mode": {
    "name": "ipython",
    "version": 3
   },
   "file_extension": ".py",
   "mimetype": "text/x-python",
   "name": "python",
   "nbconvert_exporter": "python",
   "pygments_lexer": "ipython3",
   "version": "3.8.5"
  }
 },
 "nbformat": 4,
 "nbformat_minor": 4
}
