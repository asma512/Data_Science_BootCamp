{
 "cells": [
  {
   "cell_type": "code",
   "execution_count": 72,
   "metadata": {},
   "outputs": [],
   "source": [
    "import numpy as np\n",
    "import pandas as pd"
   ]
  },
  {
   "cell_type": "markdown",
   "metadata": {},
   "source": [
    "### Write a function that calculates the dot product manually. It should accept two vectors and perform that calculation. Be sure to use try except and error handling for basic issues that might occur."
   ]
  },
  {
   "cell_type": "code",
   "execution_count": 68,
   "metadata": {},
   "outputs": [],
   "source": [
    "def dotProduct(a, b):\n",
    "    try:\n",
    "        if len(a) == len(b):\n",
    "            sum= 0\n",
    "            for i,j in zip(a,b):\n",
    "                sum += i *j\n",
    "            return sum\n",
    "    except TypeError:\n",
    "        return \"Invalid data type\"\n",
    "    except Exception as e:\n",
    "        return str(e)"
   ]
  },
  {
   "cell_type": "code",
   "execution_count": 69,
   "metadata": {},
   "outputs": [
    {
     "data": {
      "text/plain": [
       "4"
      ]
     },
     "execution_count": 69,
     "metadata": {},
     "output_type": "execute_result"
    }
   ],
   "source": [
    "dotProduct([2,0,0], [2, 0, 0])"
   ]
  },
  {
   "cell_type": "code",
   "execution_count": 70,
   "metadata": {},
   "outputs": [
    {
     "data": {
      "text/plain": [
       "'Invalid data type'"
      ]
     },
     "execution_count": 70,
     "metadata": {},
     "output_type": "execute_result"
    }
   ],
   "source": [
    "dotProduct(1, [1, 0, 0])"
   ]
  },
  {
   "cell_type": "markdown",
   "metadata": {},
   "source": [
    "### In a markdown section in your notebook, explain what one hot encoding is and why we use it. Then, manually calculate a one-hot encoding for the Belize_Airbnb_listings.csv neighborhood_group column and merge it back into the dataframe. Note: manually means don’t use scikit learn or keras or get_dummies"
   ]
  },
  {
   "cell_type": "code",
   "execution_count": 90,
   "metadata": {},
   "outputs": [
    {
     "data": {
      "text/plain": [
       "array(['Belize', 'Stann Creek', 'Toledo', 'Cayo', 'Corozal',\n",
       "       'Orange Walk'], dtype=object)"
      ]
     },
     "execution_count": 90,
     "metadata": {},
     "output_type": "execute_result"
    }
   ],
   "source": [
    "belize_df = pd.read_csv(\"belize_airbnb_listings.csv\")\n",
    "data = belize_df['neighbourhood_group'].unique()\n",
    "data"
   ]
  },
  {
   "cell_type": "code",
   "execution_count": 96,
   "metadata": {},
   "outputs": [
    {
     "name": "stdout",
     "output_type": "stream",
     "text": [
      "{'Belize': 0, 'Stann Creek': 1, 'Toledo': 2, 'Cayo': 3, 'Corozal': 4, 'Orange Walk': 5}\n",
      "{0: 'Belize', 1: 'Stann Creek', 2: 'Toledo', 3: 'Cayo', 4: 'Corozal', 5: 'Orange Walk'}\n"
     ]
    }
   ],
   "source": [
    "category_to_int = dict((n, i) for i, n in enumerate(data)) \n",
    "int_to_category = dict((i, n) for i, n in enumerate(data)) \n",
    "print(category_to_int)\n",
    "print(int_to_category)"
   ]
  },
  {
   "cell_type": "code",
   "execution_count": 92,
   "metadata": {},
   "outputs": [
    {
     "name": "stdout",
     "output_type": "stream",
     "text": [
      "[0, 0, 0, 1, 0, 0, 2, 1, 3, 3]\n"
     ]
    }
   ],
   "source": [
    "integer_encoded = [category_to_int[category] for category in belize_df['neighbourhood_group']]\n",
    "print(integer_encoded[:10])"
   ]
  },
  {
   "cell_type": "code",
   "execution_count": 94,
   "metadata": {},
   "outputs": [
    {
     "name": "stdout",
     "output_type": "stream",
     "text": [
      "[[1, 0, 0, 0, 0, 0], [1, 0, 0, 0, 0, 0], [1, 0, 0, 0, 0, 0], [0, 1, 0, 0, 0, 0], [1, 0, 0, 0, 0, 0], [1, 0, 0, 0, 0, 0], [0, 0, 1, 0, 0, 0], [0, 1, 0, 0, 0, 0], [0, 0, 0, 1, 0, 0], [0, 0, 0, 1, 0, 0]]\n"
     ]
    }
   ],
   "source": [
    "onehot_encoded = list()\n",
    "\n",
    "for value in integer_encoded:\n",
    "    neighborhood = [0 for _ in range(len(neighbourhood))]\n",
    "    neighborhood[value] = 1\n",
    "    onehot_encoded.append(neighborhood)\n",
    "print(onehot_encoded[:10])"
   ]
  },
  {
   "cell_type": "code",
   "execution_count": 99,
   "metadata": {},
   "outputs": [
    {
     "data": {
      "text/html": [
       "<div>\n",
       "<style scoped>\n",
       "    .dataframe tbody tr th:only-of-type {\n",
       "        vertical-align: middle;\n",
       "    }\n",
       "\n",
       "    .dataframe tbody tr th {\n",
       "        vertical-align: top;\n",
       "    }\n",
       "\n",
       "    .dataframe thead th {\n",
       "        text-align: right;\n",
       "    }\n",
       "</style>\n",
       "<table border=\"1\" class=\"dataframe\">\n",
       "  <thead>\n",
       "    <tr style=\"text-align: right;\">\n",
       "      <th></th>\n",
       "      <th>Belize</th>\n",
       "      <th>Stann Creek</th>\n",
       "      <th>Toledo</th>\n",
       "      <th>Cayo</th>\n",
       "      <th>Corozal</th>\n",
       "      <th>Orange Walk</th>\n",
       "    </tr>\n",
       "  </thead>\n",
       "  <tbody>\n",
       "    <tr>\n",
       "      <th>0</th>\n",
       "      <td>1</td>\n",
       "      <td>0</td>\n",
       "      <td>0</td>\n",
       "      <td>0</td>\n",
       "      <td>0</td>\n",
       "      <td>0</td>\n",
       "    </tr>\n",
       "    <tr>\n",
       "      <th>1</th>\n",
       "      <td>1</td>\n",
       "      <td>0</td>\n",
       "      <td>0</td>\n",
       "      <td>0</td>\n",
       "      <td>0</td>\n",
       "      <td>0</td>\n",
       "    </tr>\n",
       "    <tr>\n",
       "      <th>2</th>\n",
       "      <td>1</td>\n",
       "      <td>0</td>\n",
       "      <td>0</td>\n",
       "      <td>0</td>\n",
       "      <td>0</td>\n",
       "      <td>0</td>\n",
       "    </tr>\n",
       "    <tr>\n",
       "      <th>3</th>\n",
       "      <td>0</td>\n",
       "      <td>1</td>\n",
       "      <td>0</td>\n",
       "      <td>0</td>\n",
       "      <td>0</td>\n",
       "      <td>0</td>\n",
       "    </tr>\n",
       "    <tr>\n",
       "      <th>4</th>\n",
       "      <td>1</td>\n",
       "      <td>0</td>\n",
       "      <td>0</td>\n",
       "      <td>0</td>\n",
       "      <td>0</td>\n",
       "      <td>0</td>\n",
       "    </tr>\n",
       "  </tbody>\n",
       "</table>\n",
       "</div>"
      ],
      "text/plain": [
       "   Belize  Stann Creek  Toledo  Cayo  Corozal  Orange Walk\n",
       "0       1            0       0     0        0            0\n",
       "1       1            0       0     0        0            0\n",
       "2       1            0       0     0        0            0\n",
       "3       0            1       0     0        0            0\n",
       "4       1            0       0     0        0            0"
      ]
     },
     "execution_count": 99,
     "metadata": {},
     "output_type": "execute_result"
    }
   ],
   "source": [
    "nbh_encoded = pd.DataFrame(onehot_encoded).rename(columns=int_to_category)\n",
    "nbh_encoded.head()"
   ]
  },
  {
   "cell_type": "code",
   "execution_count": 103,
   "metadata": {},
   "outputs": [
    {
     "data": {
      "text/html": [
       "<div>\n",
       "<style scoped>\n",
       "    .dataframe tbody tr th:only-of-type {\n",
       "        vertical-align: middle;\n",
       "    }\n",
       "\n",
       "    .dataframe tbody tr th {\n",
       "        vertical-align: top;\n",
       "    }\n",
       "\n",
       "    .dataframe thead th {\n",
       "        text-align: right;\n",
       "    }\n",
       "</style>\n",
       "<table border=\"1\" class=\"dataframe\">\n",
       "  <thead>\n",
       "    <tr style=\"text-align: right;\">\n",
       "      <th></th>\n",
       "      <th>id</th>\n",
       "      <th>name</th>\n",
       "      <th>host_id</th>\n",
       "      <th>host_name</th>\n",
       "      <th>neighbourhood_group</th>\n",
       "      <th>neighbourhood</th>\n",
       "      <th>latitude</th>\n",
       "      <th>longitude</th>\n",
       "      <th>room_type</th>\n",
       "      <th>price</th>\n",
       "      <th>...</th>\n",
       "      <th>last_review</th>\n",
       "      <th>reviews_per_month</th>\n",
       "      <th>calculated_host_listings_count</th>\n",
       "      <th>availability_365</th>\n",
       "      <th>Belize</th>\n",
       "      <th>Stann Creek</th>\n",
       "      <th>Toledo</th>\n",
       "      <th>Cayo</th>\n",
       "      <th>Corozal</th>\n",
       "      <th>Orange Walk</th>\n",
       "    </tr>\n",
       "  </thead>\n",
       "  <tbody>\n",
       "    <tr>\n",
       "      <th>39</th>\n",
       "      <td>1134718</td>\n",
       "      <td>Bay Breezes apt #1, Caye Caulker</td>\n",
       "      <td>911311</td>\n",
       "      <td>Hilda</td>\n",
       "      <td>Belize</td>\n",
       "      <td>Belize Islands</td>\n",
       "      <td>17.73951</td>\n",
       "      <td>-88.03293</td>\n",
       "      <td>Entire home/apt</td>\n",
       "      <td>109</td>\n",
       "      <td>...</td>\n",
       "      <td>3/14/2020</td>\n",
       "      <td>1.32</td>\n",
       "      <td>10</td>\n",
       "      <td>365</td>\n",
       "      <td>1</td>\n",
       "      <td>0</td>\n",
       "      <td>0</td>\n",
       "      <td>0</td>\n",
       "      <td>0</td>\n",
       "      <td>0</td>\n",
       "    </tr>\n",
       "    <tr>\n",
       "      <th>436</th>\n",
       "      <td>14121095</td>\n",
       "      <td>Casa En La Playa  Luxury villa</td>\n",
       "      <td>9631757</td>\n",
       "      <td>Pista</td>\n",
       "      <td>Belize</td>\n",
       "      <td>Belize Islands</td>\n",
       "      <td>17.92616</td>\n",
       "      <td>-87.95821</td>\n",
       "      <td>Entire home/apt</td>\n",
       "      <td>1166</td>\n",
       "      <td>...</td>\n",
       "      <td>11/12/2020</td>\n",
       "      <td>1.08</td>\n",
       "      <td>9</td>\n",
       "      <td>364</td>\n",
       "      <td>1</td>\n",
       "      <td>0</td>\n",
       "      <td>0</td>\n",
       "      <td>0</td>\n",
       "      <td>0</td>\n",
       "      <td>0</td>\n",
       "    </tr>\n",
       "    <tr>\n",
       "      <th>1157</th>\n",
       "      <td>24664327</td>\n",
       "      <td>SeaClusion @ TUTO a private family compound</td>\n",
       "      <td>186390923</td>\n",
       "      <td>George</td>\n",
       "      <td>Belize</td>\n",
       "      <td>Belize Islands</td>\n",
       "      <td>18.01283</td>\n",
       "      <td>-87.90849</td>\n",
       "      <td>Entire home/apt</td>\n",
       "      <td>403</td>\n",
       "      <td>...</td>\n",
       "      <td>3/21/2020</td>\n",
       "      <td>1.48</td>\n",
       "      <td>5</td>\n",
       "      <td>260</td>\n",
       "      <td>1</td>\n",
       "      <td>0</td>\n",
       "      <td>0</td>\n",
       "      <td>0</td>\n",
       "      <td>0</td>\n",
       "      <td>0</td>\n",
       "    </tr>\n",
       "    <tr>\n",
       "      <th>1387</th>\n",
       "      <td>28766688</td>\n",
       "      <td>Conch Shell Inn 6</td>\n",
       "      <td>21484509</td>\n",
       "      <td>Kit</td>\n",
       "      <td>Belize</td>\n",
       "      <td>Belize Islands</td>\n",
       "      <td>17.92236</td>\n",
       "      <td>-87.96013</td>\n",
       "      <td>Private room</td>\n",
       "      <td>141</td>\n",
       "      <td>...</td>\n",
       "      <td>3/22/2020</td>\n",
       "      <td>1.68</td>\n",
       "      <td>6</td>\n",
       "      <td>365</td>\n",
       "      <td>1</td>\n",
       "      <td>0</td>\n",
       "      <td>0</td>\n",
       "      <td>0</td>\n",
       "      <td>0</td>\n",
       "      <td>0</td>\n",
       "    </tr>\n",
       "    <tr>\n",
       "      <th>300</th>\n",
       "      <td>9545048</td>\n",
       "      <td>BEST LOCATED SPOT</td>\n",
       "      <td>48970192</td>\n",
       "      <td>Lucy</td>\n",
       "      <td>Cayo</td>\n",
       "      <td>Cayo</td>\n",
       "      <td>17.15136</td>\n",
       "      <td>-89.07465</td>\n",
       "      <td>Private room</td>\n",
       "      <td>81</td>\n",
       "      <td>...</td>\n",
       "      <td>1/6/2019</td>\n",
       "      <td>0.07</td>\n",
       "      <td>1</td>\n",
       "      <td>365</td>\n",
       "      <td>0</td>\n",
       "      <td>0</td>\n",
       "      <td>0</td>\n",
       "      <td>1</td>\n",
       "      <td>0</td>\n",
       "      <td>0</td>\n",
       "    </tr>\n",
       "  </tbody>\n",
       "</table>\n",
       "<p>5 rows × 22 columns</p>\n",
       "</div>"
      ],
      "text/plain": [
       "            id                                         name    host_id  \\\n",
       "39     1134718             Bay Breezes apt #1, Caye Caulker     911311   \n",
       "436   14121095               Casa En La Playa  Luxury villa    9631757   \n",
       "1157  24664327  SeaClusion @ TUTO a private family compound  186390923   \n",
       "1387  28766688                            Conch Shell Inn 6   21484509   \n",
       "300    9545048                            BEST LOCATED SPOT   48970192   \n",
       "\n",
       "     host_name neighbourhood_group   neighbourhood  latitude  longitude  \\\n",
       "39       Hilda              Belize  Belize Islands  17.73951  -88.03293   \n",
       "436      Pista              Belize  Belize Islands  17.92616  -87.95821   \n",
       "1157    George              Belize  Belize Islands  18.01283  -87.90849   \n",
       "1387       Kit              Belize  Belize Islands  17.92236  -87.96013   \n",
       "300       Lucy                Cayo            Cayo  17.15136  -89.07465   \n",
       "\n",
       "            room_type  price  ...  last_review  reviews_per_month  \\\n",
       "39    Entire home/apt    109  ...    3/14/2020               1.32   \n",
       "436   Entire home/apt   1166  ...   11/12/2020               1.08   \n",
       "1157  Entire home/apt    403  ...    3/21/2020               1.48   \n",
       "1387     Private room    141  ...    3/22/2020               1.68   \n",
       "300      Private room     81  ...     1/6/2019               0.07   \n",
       "\n",
       "     calculated_host_listings_count  availability_365  Belize  Stann Creek  \\\n",
       "39                               10               365       1            0   \n",
       "436                               9               364       1            0   \n",
       "1157                              5               260       1            0   \n",
       "1387                              6               365       1            0   \n",
       "300                               1               365       0            0   \n",
       "\n",
       "      Toledo  Cayo  Corozal  Orange Walk  \n",
       "39         0     0        0            0  \n",
       "436        0     0        0            0  \n",
       "1157       0     0        0            0  \n",
       "1387       0     0        0            0  \n",
       "300        0     1        0            0  \n",
       "\n",
       "[5 rows x 22 columns]"
      ]
     },
     "execution_count": 103,
     "metadata": {},
     "output_type": "execute_result"
    }
   ],
   "source": [
    "belize_encoded = pd.concat([belize_df, nbh_encoded], axis=1)\n",
    "belize_encoded.sample(5)"
   ]
  },
  {
   "cell_type": "code",
   "execution_count": 137,
   "metadata": {},
   "outputs": [],
   "source": [
    "def crossProduct(a,b):\n",
    "    ans =[]\n",
    "    try:\n",
    "        if len(a) == len(b) and len(a)==3:\n",
    "            ans.append(a[1] * b[2] - a[2] * b[1])\n",
    "            ans.append(a[2] * b[0] - a[0] * b[2])\n",
    "            ans.append(a[0] * b[1] - a[1] * b[0])\n",
    "        elif len(a) == len(b) and len(a)==2:\n",
    "            ans.append(a[0] * b[1] - a[1] * b[0])\n",
    "        \n",
    "        if len(ans)==0 :\n",
    "            raise Exception(\"The dimensions has to be 2 or 3. The vectors must be same length\")\n",
    "        return ans\n",
    "    \n",
    "    except TypeError:\n",
    "        return \"Invalid data type\"\n",
    "    except Exception as e:\n",
    "        return str(e)"
   ]
  },
  {
   "cell_type": "code",
   "execution_count": 138,
   "metadata": {},
   "outputs": [
    {
     "name": "stdout",
     "output_type": "stream",
     "text": [
      "[1]\n",
      "The dimensions has to be 2 or 3. The vectors must be same length\n"
     ]
    }
   ],
   "source": [
    "print(crossProduct([1,0], [0, 1]))\n",
    "print(crossProduct([1], [0, 1]))"
   ]
  },
  {
   "cell_type": "code",
   "execution_count": null,
   "metadata": {},
   "outputs": [],
   "source": []
  }
 ],
 "metadata": {
  "kernelspec": {
   "display_name": "Python 3",
   "language": "python",
   "name": "python3"
  },
  "language_info": {
   "codemirror_mode": {
    "name": "ipython",
    "version": 3
   },
   "file_extension": ".py",
   "mimetype": "text/x-python",
   "name": "python",
   "nbconvert_exporter": "python",
   "pygments_lexer": "ipython3",
   "version": "3.8.5"
  }
 },
 "nbformat": 4,
 "nbformat_minor": 4
}
