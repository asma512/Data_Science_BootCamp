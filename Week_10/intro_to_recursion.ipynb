{
 "cells": [
  {
   "cell_type": "code",
   "execution_count": 6,
   "metadata": {},
   "outputs": [],
   "source": [
    "def countdown(n):\n",
    "    #if we print here we get n, n-1, n-2, ...0\n",
    "    print(n)\n",
    "    #count backwards from n until we get to 0\n",
    "    if n>0:\n",
    "        #call function again\n",
    "        countdown(n-1)\n",
    "        # if you print after you call the function again\n",
    "        # it has to almost unwind until it gets to the\n",
    "        #stopping condition\n",
    "        #last in, first out (LIFO) stack\n",
    "        #print(n)\n",
    "    else:\n",
    "        return #stopping condition - terminates the recursion\n",
    "    #if we print here we get n, n-1, n-2, ... (and no 0)\n",
    "    #print(n)"
   ]
  },
  {
   "cell_type": "code",
   "execution_count": 5,
   "metadata": {},
   "outputs": [
    {
     "name": "stdout",
     "output_type": "stream",
     "text": [
      "1\n",
      "2\n"
     ]
    }
   ],
   "source": [
    "countdown(2)"
   ]
  },
  {
   "cell_type": "code",
   "execution_count": null,
   "metadata": {},
   "outputs": [],
   "source": []
  }
 ],
 "metadata": {
  "kernelspec": {
   "display_name": "Python 3",
   "language": "python",
   "name": "python3"
  },
  "language_info": {
   "codemirror_mode": {
    "name": "ipython",
    "version": 3
   },
   "file_extension": ".py",
   "mimetype": "text/x-python",
   "name": "python",
   "nbconvert_exporter": "python",
   "pygments_lexer": "ipython3",
   "version": "3.8.3"
  }
 },
 "nbformat": 4,
 "nbformat_minor": 4
}
