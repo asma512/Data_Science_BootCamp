{
 "cells": [
  {
   "cell_type": "code",
   "execution_count": 72,
   "metadata": {},
   "outputs": [],
   "source": [
    "import numpy as np\n",
    "import pandas as pd\n"
   ]
  },
  {
   "cell_type": "markdown",
   "metadata": {},
   "source": [
    "### Write a function that calculates the dot product manually. It should accept two vectors and perform that calculation. Be sure to use try except and error handling for basic issues that might occur."
   ]
  },
  {
   "cell_type": "code",
   "execution_count": 68,
   "metadata": {},
   "outputs": [],
   "source": [
    "def dotProduct(a, b):\n",
    "    try:\n",
    "        if len(a) == len(b):\n",
    "            sum= 0\n",
    "            for i,j in zip(a,b):\n",
    "                sum += i *j\n",
    "            return sum\n",
    "    except TypeError:\n",
    "        return \"Invalid data type\"\n",
    "    except Exception as e:\n",
    "        return str(e)"
   ]
  },
  {
   "cell_type": "code",
   "execution_count": 69,
   "metadata": {},
   "outputs": [
    {
     "data": {
      "text/plain": [
       "4"
      ]
     },
     "execution_count": 69,
     "metadata": {},
     "output_type": "execute_result"
    }
   ],
   "source": [
    "dotProduct([2,0,0], [2, 0, 0])"
   ]
  },
  {
   "cell_type": "code",
   "execution_count": 70,
   "metadata": {},
   "outputs": [
    {
     "data": {
      "text/plain": [
       "'Invalid data type'"
      ]
     },
     "execution_count": 70,
     "metadata": {},
     "output_type": "execute_result"
    }
   ],
   "source": [
    "dotProduct(1, [1, 0, 0])"
   ]
  },
  {
   "cell_type": "markdown",
   "metadata": {},
   "source": [
    "### In a markdown section in your notebook, explain what one hot encoding is and why we use it. Then, manually calculate a one-hot encoding for the Belize_Airbnb_listings.csv neighborhood_group column and merge it back into the dataframe. Note: manually means don’t use scikit learn or keras or get_dummies"
   ]
  },
  {
   "cell_type": "code",
   "execution_count": 75,
   "metadata": {},
   "outputs": [
    {
     "data": {
      "text/plain": [
       "array(['Belize', 'Stann Creek', 'Toledo', 'Cayo', 'Corozal',\n",
       "       'Orange Walk'], dtype=object)"
      ]
     },
     "execution_count": 75,
     "metadata": {},
     "output_type": "execute_result"
    }
   ],
   "source": [
    "belize_df = pd.read_csv(\"belize_airbnb_listings.csv\")\n",
    "neighbourhood = belize_df['neighbourhood_group'].unique()\n",
    "neighbourhood "
   ]
  },
  {
   "cell_type": "code",
   "execution_count": 81,
   "metadata": {},
   "outputs": [],
   "source": [
    "category_to_int = dict((n, i) for i, n in enumerate(neighbourhood)) \n",
    "int_to_category = dict((i, n) for i, n in enumerate(neighbourhood)) "
   ]
  },
  {
   "cell_type": "code",
   "execution_count": 89,
   "metadata": {},
   "outputs": [
    {
     "name": "stdout",
     "output_type": "stream",
     "text": [
      "[0, 0, 0, 1, 0, 0, 2, 1, 3, 3]\n"
     ]
    }
   ],
   "source": [
    "integer_encoded = [category_to_int[category] for category in belize_df['neighbourhood_group']]\n",
    "print(integer_encoded[:10])"
   ]
  },
  {
   "cell_type": "code",
   "execution_count": null,
   "metadata": {},
   "outputs": [],
   "source": []
  }
 ],
 "metadata": {
  "kernelspec": {
   "display_name": "Python 3",
   "language": "python",
   "name": "python3"
  },
  "language_info": {
   "codemirror_mode": {
    "name": "ipython",
    "version": 3
   },
   "file_extension": ".py",
   "mimetype": "text/x-python",
   "name": "python",
   "nbconvert_exporter": "python",
   "pygments_lexer": "ipython3",
   "version": "3.8.5"
  }
 },
 "nbformat": 4,
 "nbformat_minor": 4
}
