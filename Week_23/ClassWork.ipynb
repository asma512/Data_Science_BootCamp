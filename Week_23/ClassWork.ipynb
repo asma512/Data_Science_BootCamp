{
 "cells": [
  {
   "cell_type": "code",
   "execution_count": 5,
   "metadata": {},
   "outputs": [],
   "source": [
    "import pymongo\n",
    "import datetime\n",
    "\n",
    "#connect to mongodb on default port\n",
    "conn='mongodb://localhost:27017'\n",
    "client=pymongo.MongoClient(conn)\n",
    "\n",
    "#create a database\n",
    "sdb = client.shows_db\n",
    "\n",
    "#create a collection in that DB\n",
    "tv_shows = sdb.tv_shows"
   ]
  },
  {
   "cell_type": "code",
   "execution_count": 6,
   "metadata": {},
   "outputs": [
    {
     "data": {
      "text/plain": [
       "<pymongo.results.InsertOneResult at 0x7f91c5d54dc0>"
      ]
     },
     "execution_count": 6,
     "metadata": {},
     "output_type": "execute_result"
    }
   ],
   "source": [
    "#CREATE\n",
    "post_data = {'name':'My Life is Murder',\n",
    "            'seasons':2,\n",
    "             'duration':'45 minutes',\n",
    "             'year':2019,\n",
    "             'date_added':datetime.datetime.utcnow()\n",
    "            }\n",
    "\n",
    "tv_shows.insert_one(post_data)"
   ]
  },
  {
   "cell_type": "code",
   "execution_count": 7,
   "metadata": {},
   "outputs": [
    {
     "name": "stdout",
     "output_type": "stream",
     "text": [
      "{'_id': ObjectId('6222eee527f0b5516d7f5fa1'), 'name': 'My Life is Murder', 'seasons': 2, 'duration': '45 minutes', 'year': 2019, 'date_added': datetime.datetime(2022, 3, 5, 5, 2, 29, 760000)}\n"
     ]
    }
   ],
   "source": [
    "#READ\n",
    "results= tv_shows.find()\n",
    "for result in results:\n",
    "    print(result)"
   ]
  },
  {
   "cell_type": "code",
   "execution_count": null,
   "metadata": {},
   "outputs": [],
   "source": []
  }
 ],
 "metadata": {
  "kernelspec": {
   "display_name": "Python 3",
   "language": "python",
   "name": "python3"
  },
  "language_info": {
   "codemirror_mode": {
    "name": "ipython",
    "version": 3
   },
   "file_extension": ".py",
   "mimetype": "text/x-python",
   "name": "python",
   "nbconvert_exporter": "python",
   "pygments_lexer": "ipython3",
   "version": "3.8.5"
  }
 },
 "nbformat": 4,
 "nbformat_minor": 4
}
